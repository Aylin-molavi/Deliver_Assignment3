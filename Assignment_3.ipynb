{
 "cells": [
  {
   "cell_type": "markdown",
   "metadata": {},
   "source": [
    "lgis  solution"
   ]
  },
  {
   "cell_type": "code",
   "execution_count": 4,
   "metadata": {},
   "outputs": [
    {
     "name": "stdout",
     "output_type": "stream",
     "text": [
      "136 153 182 183 237 238 302 377 391 610 617 651 660 827 882 883 884 927 963 1097 1191 1236 1256 1289 1380 1389 1449 1473 1515 1570 1695 1708 1779 1807 1844 1848 1938 1947 1954 1958 1966 1970 1984 2023 2038 2097 2135 2140 2164 2173 2176 2184 2196 2239 2248 2265 2295 2302 2309 2317 2453 2494 2535 2590 2827 2836 2879 2926 2985 3023 3046 3082 3227 3307 3325 3339 3348 3370 3415 3435 3497 3547 3549 3590 3657 3685 3731 4037 4052 4180 4208 4321 4368 4373 4401 4409 4434 4450 4481 4547 4672 4751 4753 4759 4776 4777 4815 4856 4875 5100 5131 5183 5184 5229 5306 5318 5527 5548 5578 5678 5799 5849 5887 5963 6028 6163 6216 6263 6511 6519 6541 6561 6676 6713 6785 6794 6889 6902 7000 7102 7174 7263 7290 7294 7416 7515 7538 7561 7566 7587 7602 7656 7758 7823 7828 7829 7924 8049 8139 8150 8254 8321 8377 8396 8400 8401 8422 8503 8505 8534 8546 8558 8578 8611 8621 8636 8666 8669 8680 8685 8707 8742 8756 8779 8843 8844\n",
      "8831 8783 8736 8727 8709 8684 8673 8633 8589 8569 8443 8398 8331 8230 8169 8111 8106 8064 8039 8033 8008 8003 7998 7950 7907 7905 7880 7866 7842 7805 7792 7756 7700 7597 7499 7481 7359 7354 7255 7182 7173 6995 6972 6969 6852 6830 6816 6800 6773 6717 6674 6663 6628 6458 6430 6357 6328 6148 6139 5947 5844 5697 5637 5598 5552 5530 5509 5502 5470 5431 5367 5325 5314 5309 5195 5141 5139 5065 4977 4948 4929 4905 4860 4852 4798 4782 4639 4621 4589 4588 4539 4508 4486 4436 4364 4337 4321 4312 4189 4177 4111 4075 3970 3887 3873 3868 3865 3775 3713 3577 3526 3460 3394 3392 3366 3361 3359 3303 3279 3210 3180 3128 3126 3121 3089 3067 2999 2916 2884 2847 2832 2817 2758 2743 2701 2642 2552 2499 2429 2335 2330 2228 2165 2119 2067 1989 1964 1910 1895 1799 1778 1733 1624 1552 1478 1444 1403 1383 1379 1378 1369 1253 1223 1119 947 825 812 784 769 706 647 562 413 392 331 240 152 75 46\n"
     ]
    }
   ],
   "source": [
    "\n",
    "def longest_increasing_subsequence(arr):\n",
    "    n = len(arr)\n",
    "    dp = [1] * n\n",
    "    prev = [-1] * n\n",
    "\n",
    "    # Fill dp array for LIS\n",
    "    for i in range(1, n):\n",
    "        for j in range(i):\n",
    "            if arr[j] < arr[i] and dp[j] + 1 > dp[i]:\n",
    "                dp[i] = dp[j] + 1\n",
    "                prev[i] = j\n",
    "\n",
    "    lis_length = max(dp)  #max index\n",
    "    idx = dp.index(lis_length)\n",
    "\n",
    "    lis = []\n",
    "    while idx != -1:\n",
    "        lis.append(arr[idx])\n",
    "        idx = prev[idx]\n",
    "\n",
    "    return lis[::-1]  # Reverse to get the correct order!\n",
    "\n",
    "\n",
    "def longest_decreasing_subsequence(arr):  #longest decreasing subsequence\n",
    "    n = len(arr)\n",
    "    dp = [1] * n\n",
    "    prev = [-1] * n\n",
    "\n",
    "    # Fill dp array for LDS now\n",
    "    for i in range(1, n):\n",
    "        for j in range(i):\n",
    "            if arr[j] > arr[i] and dp[j] + 1 > dp[i]:\n",
    "                dp[i] = dp[j] + 1\n",
    "                prev[i] = j\n",
    "\n",
    "    lds_length = max(dp)  #max dp\n",
    "    idx = dp.index(lds_length)\n",
    "\n",
    "    # Reconstruct LDS\n",
    "    lds = []\n",
    "    while idx != -1:\n",
    "        lds.append(arr[idx])\n",
    "        idx = prev[idx]\n",
    "\n",
    "    return lds[::-1]  #correct order\n",
    "\n",
    "with open('Datasets/rosalind_lgis.txt', 'r') as file:\n",
    "    n = int(file.readline().strip())\n",
    "    pi = list(map(int, file.readline().strip().split()))\n",
    "\n",
    "lis = longest_increasing_subsequence(pi)\n",
    "lds = longest_decreasing_subsequence(pi)\n",
    "\n",
    "print(\" \".join(map(str, lis)))\n",
    "print(\" \".join(map(str, lds)))\n"
   ]
  },
  {
   "cell_type": "markdown",
   "metadata": {},
   "source": [
    " sseq  solution"
   ]
  },
  {
   "cell_type": "code",
   "execution_count": 10,
   "metadata": {},
   "outputs": [
    {
     "name": "stdout",
     "output_type": "stream",
     "text": [
      "3 6 12 15 16 20 21 22 28 34 37 40 44 46 48 52 53 58 59 61 62 63 64 65 67 76 87 102 113 114 117 121 125 132 135 136 145 146 148 153 157 162 164 166 171 175 177 179 202 209 212\n"
     ]
    }
   ],
   "source": [
    "from Bio import SeqIO\n",
    "\n",
    "with open('Datasets/rosalind_sseq.txt') as f:\n",
    "    records = list(SeqIO.parse(f, \"fasta\"))\n",
    "    s = str(records[0].seq)\n",
    "    t = str(records[1].seq)\n",
    "\n",
    "position = 0\n",
    "log = []\n",
    "\n",
    "for i in t:\n",
    "    index = s[position:].find(i)\n",
    "    if index == -1:\n",
    "        raise ValueError(f\"Motif '{i}' non existant.\")\n",
    "    position += index + 1\n",
    "    log.append(position)\n",
    "\n",
    "print(\" \".join(map(str, log)))\n"
   ]
  },
  {
   "cell_type": "markdown",
   "metadata": {},
   "source": [
    "lcsq  solution"
   ]
  },
  {
   "cell_type": "code",
   "execution_count": 11,
   "metadata": {},
   "outputs": [
    {
     "name": "stdout",
     "output_type": "stream",
     "text": [
      "AATCTCTTAGTTATCCACCTCAAAGGTGGTTGCGAGTGCTCACGGTACCGCGGGTCTGCACCCGTTAATGGATTCCCCTCCACCTACGGAGCCTTGGATACTTAGCATGCGCATGGTATGCAGTTACGCAAATTCTAGTTGTCCTGCGTCTAAGGGGGTCTGAATTGGGAAGGTAGGGAATGCCACGATCCGCAGGGGTACGGTGATTTCAAAGCAGGAAGTCCATGAGTTCCGCGCGATTTACCGCCTCTACCTATCATATGAGCCCTAGAACTAGTATGTCGACACATTACCATTGTTGATTCTTTATATCCTCTGCGTAGTTGTTTCACAACCCGCCATACTGACTGCTGCTCCCGAACTAAAGTCGGCCCCAGCATTTACCGTAAAATTATTGGCGAACTAACGCTATGCAAGAAGATTATAAAATCGGAGGCATACGTCCTCGCTCACGAGGGCTATACGCTGCAGGAATCTCATAACTAACCGTCCAATTTAAATACTTATTGGGGGGTCCAATCTAATACGCGGCACCCCTCTTTGATCATTCTCGGGTAATTTTTCTACTGGAGATCTAACGTTAGGCAGATATCTTGGGAAAAGTTGTTGCAACAAACGAGCCATACGTTC\n"
     ]
    }
   ],
   "source": [
    "from Bio import SeqIO\n",
    "\n",
    "with open(\"Datasets/rosalind_lcsq.txt\", \"r\") as fa:\n",
    "    seq_name, seq_string = [], []\n",
    "    for seq_record in SeqIO.parse(fa, \"fasta\"):\n",
    "        seq_name.append(seq_record.name)\n",
    "        seq_string.append(str(seq_record.seq))\n",
    "    s, t = seq_string\n",
    "\n",
    "m, n = len(s), len(t)\n",
    "dp = [[0] * (n + 1) for _ in range(m + 1)]\n",
    "\n",
    "for i in range(m):\n",
    "    for j in range(n):\n",
    "        if s[i] == t[j]:\n",
    "            dp[i + 1][j + 1] = 1 + dp[i][j]\n",
    "        else:\n",
    "            dp[i + 1][j + 1] = max(dp[i + 1][j], dp[i][j + 1])\n",
    "\n",
    "\n",
    "longest_common_subsequence = []\n",
    "while m != 0 and n != 0:\n",
    "    if dp[m][n] == dp[m - 1][n]:\n",
    "        m -= 1\n",
    "    elif dp[m][n] == dp[m][n - 1]:\n",
    "        n -= 1\n",
    "    else:\n",
    "        longest_common_subsequence.append(s[m - 1])\n",
    "        m -= 1\n",
    "        n -= 1\n",
    "        \n",
    "print(\"\".join(reversed(longest_common_subsequence)))\n"
   ]
  },
  {
   "cell_type": "markdown",
   "metadata": {},
   "source": [
    "edit  solution"
   ]
  },
  {
   "cell_type": "code",
   "execution_count": 12,
   "metadata": {},
   "outputs": [
    {
     "name": "stdout",
     "output_type": "stream",
     "text": [
      "381\n"
     ]
    }
   ],
   "source": [
    "from Bio import SeqIO\n",
    "\n",
    "seq_name, seq_string = [], []\n",
    "\n",
    "with open(\"Datasets/rosalind_edit.txt\", \"r\") as fa:\n",
    "    for seq_record in SeqIO.parse(fa, \"fasta\"):\n",
    "        seq_name.append(seq_record.name)\n",
    "        seq_string.append(str(seq_record.seq))\n",
    "s, t = seq_string[:2] #only the first two\n",
    "\n",
    "def EditDistance(s, t):\n",
    "    n = len(s)\n",
    "    m = len(t)\n",
    "\n",
    "    D = [[0] * (m + 1) for _ in range(n + 1)]\n",
    "    \n",
    "    for i in range(n + 1):\n",
    "        D[i][0] = i\n",
    "    for j in range(m + 1):\n",
    "        D[0][j] = j\n",
    "    \n",
    "    for i in range(1, n + 1):\n",
    "        for j in range(1, m + 1):\n",
    "            left = D[i - 1][j] + 1\n",
    "            down = D[i][j - 1] + 1\n",
    "            left_down = D[i - 1][j - 1]\n",
    "            if s[i - 1] != t[j - 1]:\n",
    "                left_down += 1\n",
    "            D[i][j] = min(left, down, left_down)\n",
    "    return D[n][m]\n",
    "\n",
    "print(EditDistance(s, t))"
   ]
  },
  {
   "cell_type": "markdown",
   "metadata": {},
   "source": [
    "edita  solution"
   ]
  },
  {
   "cell_type": "code",
   "execution_count": 13,
   "metadata": {},
   "outputs": [
    {
     "name": "stdout",
     "output_type": "stream",
     "text": [
      "375\n",
      "GQIFSLLLVIAVKIFIVMCYGWATWGYWTRSILSDHNICIKWI--KKGIQHAKAMVNIQV-Y--NTQSRCFIEPCAHRQMRLSDT---REGNPDDH-VR-IFGLGQHMIHKRKSRKSLGMRIHWSQCSEC---YDGHMPDGTLPHRCSP----W-FRQEYKGGCRVKYYWENNAPAMQ--------NHWKKSQQDNNLVVFLTMLPFMDALPQHLH-WFLSKMVPIYKGYTYQQQEAKKNFEGADIIHGCDSPCDCPKQPDFFVNHIQDICPMMGTVSFTAIAENAEMCYMVGMGENRG---PYPETKAMLIECMFMKQQLVVKRCLCRQNSWSTNEHFPFQWHIWVILKSLQDPGQMYYHV--Y--FRSSRYKA--L----LFADCDVECHSCQWLGNGDTYNLLNVSCTYNRK--HEPDFTYQPPPHVAKTLETSSCGIDEHCNWSMSQNILECRIVWFPAW---NSVVCNKWGQSGWSRASHEEHCAAHWHWQIFQNGAPNCKEQEMTYVLGLQFS---K----MCV--RCTIWKINMWDRVQEQEMSGYEWVQHCHCYVCQNFQSAHTCNMVENDVMQNTATGYN--CLDYVFEEHKSVIHWD-W-APFNRENPGTKNHRIQIKK--------SNPEYFWWLGFV--RIQARLICRWDSRPDCCRRQFSDEDGMSCKLCYWDTDLWMCMDQGIEDNNNNGH-NTCLAESEKFQMQFHALTEWGQHMNG-W----MNMMQDKHNRK--W--FFNY-MTFVWYTILHELSHHPIL-VCFARKEKRPVIAECKQWMPMFKNKTFPFAYDMAKRG----QYRHSFERY-ATWPNNHPNDAAWEIFKSTVAWLFHFGTPV---DVMIQPINHNSLEPSHL\n",
      "GQIFVMCYGWAV-AREAWGYWTRSISDGDFHINSDENICIKWISRGKGIQHAFAMVNIQVYYEPNTQSRCF-EPCAHRQIRLSDTLFISYTRFQMHRARCDFYLGQHMIHKMKSRKSKGMRIHWSQCSECDTNRKGHMIDDTLPHRTIPQTIKWYFRQEGKGGCRVK-Y-ENNAPAMQMRMHTRGSIHWKKS-QDNNLVVFLTMLPFMDAKPQGSHMTCWRPWIPISKGYTYQQQESKKNFEGAKIIRG----CD-----D-F--H--KI-IMMGTVS-----DDGCFFY-CGMGENRGFSCPYPETKAEFIECMFMKQQRVVKR--C--VHW-TNEHFPFRWHIW--------PGQMYYHVYEYQIGRSSRYKAWPLSKQHLFADCDVEMHSC----N-DTYNLLNVSCTYNRKDLRECQCTYQ--P------ET-------------S---LECRIVWFPAWVTVDSVVCNKWGQ------S-EEHKAWHWHWQI-Q-GVQN---GEMAVVLG-QFSICVKPDLITCVHHVEMMSQVENWDRVQEQEMSGYEWVQHCHCYV-------H---------MQNTATGYNMVGLDHVFEE---VIQWDTWKAPFNRENPGTKNHSYQIKKMWLHEQNELNGEYFWWLGFVICRLDSRTCIHMNYLTDCCRRQFSDEDGMSCK----DTDLWMCMDGGIEDNNNNGHVLTCLKESEKFQMQ------WGQHMNGWWHKKHINMMQTKHNRKQPWATHHKYAWLTQGKTIL-QMHLFGILHHWQTIKEKRIVIAECKQWMPMFKNKTFPFAYDMAHRGKVKTIQFCTFERYKSTVINETWMEIFIWQYNS-VTWLFHFGTPVQGPDVMIQP-------PSHL\n"
     ]
    }
   ],
   "source": [
    "from Bio import SeqIO\n",
    "\n",
    "\n",
    "def match(a, b):\n",
    "    return 0 if a == b else 1\n",
    "\n",
    "seqs = [] # initialize \n",
    "with open('Datasets/rosalind_edta.txt', 'r') as f:\n",
    "    for record in SeqIO.parse(f, 'fasta'):\n",
    "        seqs.append(str(record.seq))\n",
    "\n",
    "s, t = seqs[0], seqs[1]\n",
    "\n",
    "M = [[0 for _ in range(len(t) + 1)] for _ in range(len(s) + 1)]\n",
    "\n",
    "for i in range(1, len(s) + 1):\n",
    "    M[i][0] = i\n",
    "for i in range(1, len(t) + 1):\n",
    "    M[0][i] = i\n",
    "\n",
    "for i in range(1, len(s) + 1):\n",
    "    for j in range(1, len(t) + 1):\n",
    "        cost = 0 if s[i-1] == t[j-1] else 1\n",
    "        M[i][j] = min(M[i-1][j] + 1, M[i][j-1] + 1, M[i-1][j-1] + cost)\n",
    "\n",
    "print(M[len(s)][len(t)])\n",
    "\n",
    "\n",
    "s_protein, t_protein = '', '' \n",
    "i, j = len(s), len(t)\n",
    "\n",
    "while i * j != 0:\n",
    "    if M[i][j] == M[i-1][j-1] + match(s[i-1], t[j-1]):\n",
    "        s_protein = s[i-1] + s_protein\n",
    "        t_protein = t[j-1] + t_protein\n",
    "        i -= 1\n",
    "        j -= 1\n",
    "    elif i > 0 and M[i][j] == M[i-1][j] + 1:\n",
    "        s_protein = s[i-1] + s_protein\n",
    "        t_protein = '-' + t_protein\n",
    "        i -= 1\n",
    "    else:\n",
    "        t_protein = t[j-1] + t_protein\n",
    "        s_protein = '-' + s_protein\n",
    "        j -= 1\n",
    "\n",
    "print(s_protein)\n",
    "print(t_protein)"
   ]
  },
  {
   "cell_type": "markdown",
   "metadata": {},
   "source": [
    " glob  solution\n",
    "\n",
    "additional structions :\n",
    "\n",
    "ouput : maximum alignment score between s and t\n",
    "\n",
    "Use:\n",
    "- The BLOSUM62 scoring matrix.\n",
    "- Linear gap penalty equal to 5 (i.e., a cost of -5 is assessed for each gap symbol)"
   ]
  },
  {
   "cell_type": "code",
   "execution_count": 22,
   "metadata": {},
   "outputs": [
    {
     "name": "stdout",
     "output_type": "stream",
     "text": [
      "Collecting blosum\n",
      "  Obtaining dependency information for blosum from https://files.pythonhosted.org/packages/27/da/b7507be8843f88164fe7e24e18ccd9065fbc65135290f3434261c0057e37/blosum-2.0.3-py3-none-any.whl.metadata\n",
      "  Downloading blosum-2.0.3-py3-none-any.whl.metadata (4.1 kB)\n",
      "Requirement already satisfied: biopython in c:\\users\\user\\anaconda3\\lib\\site-packages (1.84)\n",
      "Requirement already satisfied: numpy in c:\\users\\user\\anaconda3\\lib\\site-packages (from biopython) (1.24.3)\n",
      "Using cached blosum-2.0.3-py3-none-any.whl (21 kB)\n",
      "Installing collected packages: blosum\n",
      "Successfully installed blosum-2.0.3\n",
      "Note: you may need to restart the kernel to use updated packages.\n"
     ]
    }
   ],
   "source": [
    "pip install blosum biopython\n"
   ]
  },
  {
   "cell_type": "code",
   "execution_count": null,
   "metadata": {},
   "outputs": [
    {
     "name": "stdout",
     "output_type": "stream",
     "text": [
      "1953.0\n"
     ]
    }
   ],
   "source": [
    "\n",
    "import blosum as bl\n",
    "from Bio import SeqIO\n",
    "\n",
    "matrix = bl.BLOSUM(62)\n",
    "\n",
    "# Gap penalty\n",
    "gap_penalty = -5\n",
    "\n",
    "def global_alignment(s, t):\n",
    "    m, n = len(s), len(t)\n",
    "\n",
    "    dp = [[0] * (n + 1) for _ in range(m + 1)] #dp table\n",
    "\n",
    "    # Filling the first column and row with gap penalties\n",
    "    for i in range(1, m + 1):\n",
    "        dp[i][0] = dp[i - 1][0] + gap_penalty\n",
    "    for j in range(1, n + 1):\n",
    "        dp[0][j] = dp[0][j - 1] + gap_penalty\n",
    "\n",
    "    # Filling the DP table using the BLOSUM matrix\n",
    "    for i in range(1, m + 1):\n",
    "        for j in range(1, n + 1):\n",
    "            substitution = dp[i - 1][j - 1] + matrix[s[i - 1]][t[j - 1]] # Substitution score\n",
    "            insertion = dp[i][j - 1] + gap_penalty #insertion score\n",
    "            deletion = dp[i - 1][j] + gap_penalty #deletio score\n",
    "\n",
    "            dp[i][j] = max(substitution, insertion, deletion) #max score\n",
    "    return dp[m][n] #alignment\n",
    "\n",
    "if __name__ == \"__main__\":\n",
    "    seq_name, seq_string = [], []\n",
    "    with open(\"Datasets/rosalind_glob.txt\", \"r\") as fa:\n",
    "        for seq_record in SeqIO.parse(fa, \"fasta\"):\n",
    "            seq_name.append(seq_record.name)\n",
    "            seq_string.append(str(seq_record.seq))\n",
    "\n",
    "    s, t = seq_string #the wanted sequences\n",
    "    print(global_alignment(s, t))\n"
   ]
  },
  {
   "cell_type": "markdown",
   "metadata": {},
   "source": [
    "ctea  solution"
   ]
  },
  {
   "cell_type": "code",
   "execution_count": 18,
   "metadata": {},
   "outputs": [
    {
     "name": "stdout",
     "output_type": "stream",
     "text": [
      "62269928\n"
     ]
    }
   ],
   "source": [
    "from Bio import SeqIO\n",
    "import numpy as np\n",
    "\n",
    "def ReadFASTA(filename):\n",
    "    seqs = []\n",
    "    with open(filename, 'r') as f:\n",
    "        for record in SeqIO.parse(f, 'fasta'):\n",
    "            seqs.append(str(record.seq))\n",
    "    return seqs\n",
    "\n",
    "def count_alignment(v, w):\n",
    "    MOD = 134217727  # Modulo value\n",
    "    \n",
    "    n, m = len(v), len(w)\n",
    "    S = np.zeros((n + 1, m + 1), dtype=int)  # edit distance scores\n",
    "    count = np.zeros((n + 1, m + 1), dtype=int)  # counting optimal alignments\n",
    "    \n",
    "    # Base case: first row and column\n",
    "    for i in range(n + 1):\n",
    "        S[i][0] = i\n",
    "        count[i][0] = 1\n",
    "    for j in range(1, m + 1):\n",
    "        S[0][j] = j\n",
    "        count[0][j] = 1\n",
    "    \n",
    "    for i in range(1, n + 1):\n",
    "        for j in range(1, m + 1):  #now the costs for each possible operation\n",
    "            substitution_cost = S[i - 1][j - 1] + (v[i - 1] != w[j - 1])  # Substitution\n",
    "            insertion_cost = S[i - 1][j] + 1  # Deletion (while having insertion on the other string)\n",
    "            deletion_cost = S[i][j - 1] + 1  # Insertion (.............deletion ....)\n",
    "\n",
    "            S[i][j] = min(substitution_cost, insertion_cost, deletion_cost)  #min cost\n",
    "            \n",
    "#optimal alignments achieving the minimum score\n",
    "            if S[i][j] == substitution_cost:\n",
    "                count[i][j] += count[i - 1][j - 1]\n",
    "            if S[i][j] == insertion_cost:\n",
    "                count[i][j] += count[i - 1][j]\n",
    "            if S[i][j] == deletion_cost:\n",
    "                count[i][j] += count[i][j - 1]\n",
    "            \n",
    "            # Take the count modulo 134,217,727\n",
    "            count[i][j] %= MOD\n",
    "\n",
    "    return count[n][m]\n",
    "\n",
    "\n",
    "if __name__ == \"__main__\":\n",
    "    seqs = ReadFASTA('Datasets/rosalind_ctea.txt')\n",
    "    s, t = seqs[0], seqs[1]\n",
    "\n",
    "    count = count_alignment(s, t)\n",
    "    print(count)\n"
   ]
  }
 ],
 "metadata": {
  "kernelspec": {
   "display_name": "base",
   "language": "python",
   "name": "python3"
  },
  "language_info": {
   "codemirror_mode": {
    "name": "ipython",
    "version": 3
   },
   "file_extension": ".py",
   "mimetype": "text/x-python",
   "name": "python",
   "nbconvert_exporter": "python",
   "pygments_lexer": "ipython3",
   "version": "3.11.5"
  }
 },
 "nbformat": 4,
 "nbformat_minor": 2
}
