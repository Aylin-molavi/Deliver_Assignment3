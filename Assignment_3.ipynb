{
 "cells": [
  {
   "cell_type": "markdown",
   "metadata": {},
   "source": [
    "lgis  solution"
   ]
  },
  {
   "cell_type": "code",
   "execution_count": null,
   "metadata": {},
   "outputs": [],
   "source": [
    "# Function to compute the longest increasing subsequence\n",
    "def longest_increasing_subsequence(arr):\n",
    "    n = len(arr)\n",
    "    dp = [1] * n\n",
    "    prev = [-1] * n\n",
    "\n",
    "    # Fill dp array for LIS\n",
    "    for i in range(1, n):\n",
    "        for j in range(i):\n",
    "            if arr[j] < arr[i] and dp[j] + 1 > dp[i]:\n",
    "                dp[i] = dp[j] + 1\n",
    "                prev[i] = j\n",
    "\n",
    "    # Find the index of the maximum value in dp\n",
    "    lis_length = max(dp)\n",
    "    idx = dp.index(lis_length)\n",
    "\n",
    "    # Reconstruct LIS\n",
    "    lis = []\n",
    "    while idx != -1:\n",
    "        lis.append(arr[idx])\n",
    "        idx = prev[idx]\n",
    "\n",
    "    return lis[::-1]  # Reverse to get the correct order\n",
    "\n",
    "# Function to compute the longest decreasing subsequence\n",
    "def longest_decreasing_subsequence(arr):\n",
    "    n = len(arr)\n",
    "    dp = [1] * n\n",
    "    prev = [-1] * n\n",
    "\n",
    "    # Fill dp array for LDS\n",
    "    for i in range(1, n):\n",
    "        for j in range(i):\n",
    "            if arr[j] > arr[i] and dp[j] + 1 > dp[i]:\n",
    "                dp[i] = dp[j] + 1\n",
    "                prev[i] = j\n",
    "\n",
    "    # Find the index of the maximum value in dp\n",
    "    lds_length = max(dp)\n",
    "    idx = dp.index(lds_length)\n",
    "\n",
    "    # Reconstruct LDS\n",
    "    lds = []\n",
    "    while idx != -1:\n",
    "        lds.append(arr[idx])\n",
    "        idx = prev[idx]\n",
    "\n",
    "    return lds[::-1]  # Reverse to get the correct order\n",
    "\n",
    "# Reading the input file\n",
    "with open('Dataseta/rosalind_lgis.txt', 'r') as file:\n",
    "    n = int(file.readline().strip())\n",
    "    pi = list(map(int, file.readline().strip().split()))\n",
    "\n",
    "# Compute LIS and LDS\n",
    "lis = longest_increasing_subsequence(pi)\n",
    "lds = longest_decreasing_subsequence(pi)\n",
    "\n",
    "# Output the results\n",
    "print(\" \".join(map(str, lis)))\n",
    "print(\" \".join(map(str, lds)))\n"
   ]
  },
  {
   "cell_type": "markdown",
   "metadata": {},
   "source": [
    " sseq  solution"
   ]
  },
  {
   "cell_type": "code",
   "execution_count": null,
   "metadata": {},
   "outputs": [],
   "source": []
  },
  {
   "cell_type": "markdown",
   "metadata": {},
   "source": [
    "lcsq  solution"
   ]
  },
  {
   "cell_type": "code",
   "execution_count": null,
   "metadata": {},
   "outputs": [],
   "source": []
  },
  {
   "cell_type": "markdown",
   "metadata": {},
   "source": [
    "edit  solution"
   ]
  },
  {
   "cell_type": "code",
   "execution_count": null,
   "metadata": {},
   "outputs": [],
   "source": []
  },
  {
   "cell_type": "markdown",
   "metadata": {},
   "source": [
    "edita  solution"
   ]
  },
  {
   "cell_type": "code",
   "execution_count": null,
   "metadata": {},
   "outputs": [],
   "source": []
  },
  {
   "cell_type": "markdown",
   "metadata": {},
   "source": [
    " glob  solution"
   ]
  },
  {
   "cell_type": "code",
   "execution_count": null,
   "metadata": {},
   "outputs": [],
   "source": []
  },
  {
   "cell_type": "markdown",
   "metadata": {},
   "source": [
    "ctea  solution"
   ]
  },
  {
   "cell_type": "code",
   "execution_count": null,
   "metadata": {},
   "outputs": [],
   "source": []
  }
 ],
 "metadata": {
  "kernelspec": {
   "display_name": "base",
   "language": "python",
   "name": "python3"
  },
  "language_info": {
   "name": "python",
   "version": "3.11.5"
  }
 },
 "nbformat": 4,
 "nbformat_minor": 2
}
